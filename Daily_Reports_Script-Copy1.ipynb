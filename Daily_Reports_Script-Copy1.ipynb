{
 "cells": [
  {
   "cell_type": "markdown",
   "metadata": {},
   "source": [
    "## Daily Reports Script"
   ]
  },
  {
   "cell_type": "code",
   "execution_count": null,
   "metadata": {},
   "outputs": [],
   "source": [
    "import pandas as pd"
   ]
  },
  {
   "cell_type": "markdown",
   "metadata": {},
   "source": [
    "## Import Files"
   ]
  },
  {
   "cell_type": "code",
   "execution_count": null,
   "metadata": {},
   "outputs": [],
   "source": [
    "# Insert Date that match report file names\n",
    "report_date = '10.4'\n",
    "\n",
    "# File paths set for location of files\n",
    "amt_file_path = (r'#')\n",
    "inventory_file_path = (r'# {} #').format(report_date) # .format notation for varied dates\n",
    "sales_forecast_path = (r'#')\n",
    "units_path = (r'# {} #').format(report_date) # .format notation for varied dates\n",
    "\n",
    "# Variable assignment and import for files\n",
    "amt = pd.read_excel(amt_file_path)\n",
    "inventory = pd.read_excel(inventory_file_path)\n",
    "sales_forecast = pd.read_excel(sales_forecast_path)\n",
    "units = pd.read_excel(kgp_pos_units_path)"
   ]
  },
  {
   "cell_type": "markdown",
   "metadata": {},
   "source": [
    "## Customizing Data"
   ]
  },
  {
   "cell_type": "code",
   "execution_count": null,
   "metadata": {},
   "outputs": [],
   "source": [
    "# Selecting Fiscal Weeks for Sum Total\n",
    "sales_forecast_weeks = list(sales_forecast)\n",
    "del sales_forecast_weeks[0:8] # The 8 will need to increase weekly to remove old fiscal weeks from sum\n",
    "\n",
    "# New column for sum total of fiscal week selections \n",
    "sales_forecast['Forecast'] = sales_forecast[sales_forecast_weeks].sum(axis=1)\n",
    "sales_forecast.rename(columns={'STR_NBR': 'STR NBR',\n",
    "                              'SKU_NBR': 'Sku'}, inplace=True)\n",
    "\n",
    "# New sales_forecast table with only necessary columns\n",
    "columnslist = ['STR NBR', 'Sku', 'THD Forecast']\n",
    "sales_forecast = sales_forecast[columnslist]\n",
    "\n",
    "# Name changes to match amt file column names\n",
    "inventory.rename(columns={'Store Nbr': 'STR NBR',\n",
    "                         'SKU Nbr': 'Sku',\n",
    "                         'Str OH Units Dly': 'OH'}, inplace = True)\n",
    "\n",
    "# Removing unnecessary columns\n",
    "inventory.drop(columns = ['SKU Name', 'Str OO Units Dly'], inplace = True) \n",
    "\n",
    "# Name change to match amt file column names\n",
    "units.rename(columns={'Store': 'STR NBR',\n",
    "                              'Item': 'Sku',\n",
    "                              2018: 'Units'}, inplace=True)"
   ]
  },
  {
   "cell_type": "markdown",
   "metadata": {},
   "source": [
    "## Merge Data Files"
   ]
  },
  {
   "cell_type": "code",
   "execution_count": null,
   "metadata": {},
   "outputs": [],
   "source": [
    "# Merging OH data to AMT\n",
    "combo = amt.merge(inventory,\n",
    "                  how='left',\n",
    "                  on=['STR NBR', 'Sku'])\n",
    "\n",
    "# Second merge, deleting unnecessary columns, and renaming to match AMT\n",
    "combo_b = combo.merge(units,\n",
    "                      how='left',\n",
    "                      left_on=['STR NBR', 'Old Sku'],\n",
    "                      right_on=['STR NBR', 'Sku'])\n",
    "del combo_b['Sku_y']\n",
    "combo_b.rename(columns={'Sku_x': 'Sku'}, inplace=True)\n",
    "\n",
    "# Merging THD_Forecast to new OH and AMT\n",
    "daily_reports = combo_b.merge(sales_forecast,\n",
    "                              how='left',\n",
    "                              on=['STR NBR', 'Sku'])\n",
    "daily_reports = daily_reports.fillna(0)"
   ]
  },
  {
   "cell_type": "markdown",
   "metadata": {},
   "source": [
    "## Export Report"
   ]
  },
  {
   "cell_type": "code",
   "execution_count": null,
   "metadata": {},
   "outputs": [],
   "source": [
    "export = pd.ExcelWriter(r'# '+ report_date +' Daily Reports.xlsx',\n",
    "                        engine = 'xlsxwriter')\n",
    "\n",
    "daily_reports.to_excel(export, index=False)\n",
    "\n",
    "export.save()"
   ]
  }
 ],
 "metadata": {
  "kernelspec": {
   "display_name": "Python 3",
   "language": "python",
   "name": "python3"
  },
  "language_info": {
   "codemirror_mode": {
    "name": "ipython",
    "version": 3
   },
   "file_extension": ".py",
   "mimetype": "text/x-python",
   "name": "python",
   "nbconvert_exporter": "python",
   "pygments_lexer": "ipython3",
   "version": "3.7.3"
  }
 },
 "nbformat": 4,
 "nbformat_minor": 2
}
